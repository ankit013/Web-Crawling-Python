{
 "cells": [
  {
   "cell_type": "markdown",
   "metadata": {
    "colab_type": "text",
    "id": "TnwKrqKJQozE"
   },
   "source": [
    "# Crawling a webpage to extract the detail "
   ]
  },
  {
   "cell_type": "markdown",
   "metadata": {
    "colab_type": "text",
    "id": "dMnhAB4DQozG"
   },
   "source": [
    "## Library used : bs4, requests, general lib - pandas,numpy,time,datetime\n",
    "\n",
    "### 1. Scraping the website of second hand car\n",
    "### 2. Store the desired information into a list \n",
    "### 3. Create a dataframe from the list created"
   ]
  },
  {
   "cell_type": "markdown",
   "metadata": {
    "colab_type": "text",
    "id": "Kb8lrQtYQozH"
   },
   "source": [
    "## Import Required Library "
   ]
  },
  {
   "cell_type": "code",
   "execution_count": null,
   "metadata": {
    "colab": {},
    "colab_type": "code",
    "id": "JNOeB0amQozH"
   },
   "outputs": [],
   "source": [
    "## Import Necessary Library ##\n",
    "import requests\n",
    "from bs4 import BeautifulSoup\n",
    "headers = requests.utils.default_headers()\n",
    "import pandas as pd\n",
    "import numpy as np\n",
    "import time\n",
    "import datetime\n",
    "import warnings\n",
    "warnings.filterwarnings('ignore')\n",
    "import os\n",
    "import csv"
   ]
  },
  {
   "cell_type": "markdown",
   "metadata": {
    "colab_type": "text",
    "id": "rPdlwZbwQozL"
   },
   "source": [
    "## Create a list of URL to fetch "
   ]
  },
  {
   "cell_type": "code",
   "execution_count": null,
   "metadata": {
    "colab": {},
    "colab_type": "code",
    "id": "4fgbxfKtQozL"
   },
   "outputs": [],
   "source": [
    "url=\"https:XXXXpage=\"\n",
    "count=900 ## enter the number of pages to crawl\n",
    "pages=range(count)\n",
    "url_legal=[]\n",
    "for page in pages:\n",
    "    legal=f'{url}{pages[page]}'\n",
    "    url_legal.append(legal)"
   ]
  },
  {
   "cell_type": "code",
   "execution_count": null,
   "metadata": {
    "colab": {
     "base_uri": "https://localhost:8080/",
     "height": 34
    },
    "colab_type": "code",
    "id": "HOI4cv5tQozO",
    "outputId": "5260b412-6703-4a69-881b-a0095cacf888"
   },
   "outputs": [],
   "source": [
    "#display(print(url_legal))\n",
    "display(len(url_legal))"
   ]
  },
  {
   "cell_type": "markdown",
   "metadata": {
    "colab_type": "text",
    "id": "fvnioX4PQozY"
   },
   "source": [
    "## Function for looping items of all pages of the site "
   ]
  },
  {
   "cell_type": "code",
   "execution_count": null,
   "metadata": {
    "colab": {},
    "colab_type": "code",
    "id": "4wMz4ZlMQozZ"
   },
   "outputs": [],
   "source": [
    "### get the item list url and store it into a list ###\n",
    "item_url=[]\n",
    "for page in url_legal[1:]:\n",
    "  sc=requests.get(page,headers={'User-Agent':'Mozilla/5.0 (Macintosh; Intel Mac OS X 10_15_4) AppleWebKit/537.36 (KHTML, like Gecko) Chrome/80.0.3987.163 Safari/537.36'})\n",
    "  doc=sc.text\n",
    "  soup=BeautifulSoup(doc,\"html.parser\")\n",
    "  for link in soup.findAll('a',{'class':'c-item-title title-blue'}):\n",
    "    href=\"https://www.carmudi.co.id/\"+link.get('href')\n",
    "    item_url.append(href)"
   ]
  },
  {
   "cell_type": "code",
   "execution_count": null,
   "metadata": {
    "colab": {
     "base_uri": "https://localhost:8080/",
     "height": 34
    },
    "colab_type": "code",
    "id": "hsr9oICHX6CJ",
    "outputId": "3ef8b39c-42e0-4f6f-967e-9f19be265842"
   },
   "outputs": [],
   "source": [
    "display(len(item_url))"
   ]
  },
  {
   "cell_type": "code",
   "execution_count": null,
   "metadata": {
    "colab": {},
    "colab_type": "code",
    "id": "MbBdGQRGxXQc"
   },
   "outputs": [],
   "source": [
    "item_url"
   ]
  },
  {
   "cell_type": "markdown",
   "metadata": {
    "colab_type": "text",
    "id": "LeubwFXeQozS"
   },
   "source": [
    "## Create a lower limit and upper limit to number of pages to pass to the range of url "
   ]
  },
  {
   "cell_type": "code",
   "execution_count": null,
   "metadata": {
    "colab": {},
    "colab_type": "code",
    "id": "uqkV0aNDQozT"
   },
   "outputs": [],
   "source": [
    "pl=1\n",
    "lower_il=0\n",
    "upper_il=30"
   ]
  },
  {
   "cell_type": "markdown",
   "metadata": {
    "colab_type": "text",
    "id": "YMvQYvR8QozV"
   },
   "source": [
    "## Create empty list as per the column required "
   ]
  },
  {
   "cell_type": "code",
   "execution_count": null,
   "metadata": {
    "colab": {},
    "colab_type": "code",
    "id": "zlWvseVWQozW"
   },
   "outputs": [],
   "source": [
    "## Create empty list for the info to scrap ##\n",
    "title=[]\n",
    "price=[]\n",
    "km=[]\n",
    "car_type=[]\n",
    "fuel_type=[]\n",
    "engine_capacity=[]\n",
    "location=[]"
   ]
  },
  {
   "cell_type": "code",
   "execution_count": null,
   "metadata": {
    "colab": {
     "base_uri": "https://localhost:8080/",
     "height": 34
    },
    "colab_type": "code",
    "id": "v1hSuvsbgabU",
    "outputId": "9a636e84-c1b8-4299-edbc-a05c10160a81"
   },
   "outputs": [],
   "source": [
    "url_legal[pl]"
   ]
  },
  {
   "cell_type": "markdown",
   "metadata": {
    "colab_type": "text",
    "id": "-XIl7u6KQozr"
   },
   "source": [
    "## Fill the list with Title , price ,km,cartype,fueltype,engine capacity"
   ]
  },
  {
   "cell_type": "markdown",
   "metadata": {
    "colab_type": "text",
    "id": "63TUmxuQaVmx"
   },
   "source": [
    "## Label Extract"
   ]
  },
  {
   "cell_type": "code",
   "execution_count": null,
   "metadata": {
    "colab": {
     "base_uri": "https://localhost:8080/",
     "height": 34
    },
    "colab_type": "code",
    "id": "aT4fLgR3Qozr",
    "outputId": "019c8ff0-985c-4426-bbfa-c517fdac93f3"
   },
   "outputs": [],
   "source": [
    "### get the item title and price ###\n",
    "\n",
    "start=time.time()\n",
    "\n",
    "## Script for fetching inner details \n",
    "import string as str\n",
    "for link in item_url[lower_il:upper_il]:\n",
    "    sc=requests.get(link,headers={'User-Agent':'Mozilla/5.0 (Macintosh; Intel Mac OS X 10_15_4) AppleWebKit/537.36 (KHTML, like Gecko) Chrome/80.0.3987.163 Safari/537.36'})\n",
    "    doc=sc.text\n",
    "    soup=BeautifulSoup(doc,\"html.parser\")\n",
    "    organic_list=soup.findAll('div',{'class':'card-body d-block d-lg-none'})\n",
    "    for i in organic_list:\n",
    "        if i.find('div',{'class':'c-listing-title-container'}):\n",
    "            title.append(i.find('div',{'class':'c-listing-title truncated'}).text.strip())\n",
    "        else:\n",
    "            title.append('No_Title')\n",
    "        if i.find('span',{'class':'c-listing-price'}):\n",
    "            price.append(i.find('span',{'class':'c-listing-price'}).text)\n",
    "        else:\n",
    "            price.append('No_price')\n",
    "        if i.find_all('div',{'class':'c-basic-car-details__container d-flex my-1 my-lg-0'}):\n",
    "            km.append(i.find_all('div',{'class':'c-basic-car-details__container d-flex my-1 my-lg-0'})[0].span.text.strip())\n",
    "        else:\n",
    "            km.append('No_km')\n",
    "        if i.find_all('div',{'class':'c-basic-car-details__container d-flex my-1 my-lg-0'}):\n",
    "            car_type.append(i.find_all('div',{'class':'c-basic-car-details__container d-flex my-1 my-lg-0'})[1].span.text.strip())\n",
    "        else:\n",
    "            car_type.append('No_type')\n",
    "        if i.find_all('div',{'class':'c-basic-car-details__container d-flex my-1 my-lg-0'}):\n",
    "            fuel_type.append(i.find_all('div',{'class':'c-basic-car-details__container d-flex my-1 my-lg-0'})[2].span.text.strip())\n",
    "        else:\n",
    "            fuel_type.append('No_type')\n",
    "        if i.find_all('div',{'class':'c-basic-car-details__container d-flex my-1 my-lg-0'}):\n",
    "            engine_capacity.append(i.find_all('div',{'class':'c-basic-car-details__container d-flex my-1 my-lg-0'})[3].span.text)\n",
    "        else:\n",
    "            engine_capacity.append('No_type') \n",
    "\n",
    "# ## Script for fetching location ##\n",
    "# for page in url_legal[pl]:\n",
    "#     sc=requests.get(page,headers={'User-Agent':'Mozilla/5.0 (Macintosh; Intel Mac OS X 10_15_4) AppleWebKit/537.36 (KHTML, like Gecko) Chrome/80.0.3987.163 Safari/537.36'})\n",
    "#     doc=sc.text\n",
    "#     soup=BeautifulSoup(doc,\"html.parser\")\n",
    "#     organic_list_1=soup.findAll('div',{'class':'attributes-wrapper'})\n",
    "#     for i in organic_list_1:\n",
    "#         if i.find('ul',{'class':'inline-list catalog-listing-attribute-list'}):\n",
    "#             location.append(i.find('li',{'class':'column small-6 medium-3 large-3 catalog-listing-item-location'}).span.text.strip())\n",
    "#         else:\n",
    "#             location.append('No_location')\n",
    "            \n",
    "end=time.time()\n",
    "print(end-start)"
   ]
  },
  {
   "cell_type": "markdown",
   "metadata": {
    "colab_type": "text",
    "id": "dX7hsnO1Qozt"
   },
   "source": [
    "## Fill the location list "
   ]
  },
  {
   "cell_type": "code",
   "execution_count": null,
   "metadata": {
    "colab": {
     "base_uri": "https://localhost:8080/",
     "height": 34
    },
    "colab_type": "code",
    "id": "jPjAp2fsQozt",
    "outputId": "32762e0b-81fb-435c-8050-3394dbfc8868"
   },
   "outputs": [],
   "source": [
    "start=time.time()\n",
    "page=url_legal[pl]\n",
    "sc=requests.get(page)\n",
    "doc=sc.text\n",
    "soup=BeautifulSoup(doc,\"html.parser\")\n",
    "organic_list_1=soup.findAll('div',{'class':'attributes-wrapper'})\n",
    "for i in organic_list_1:\n",
    "  if i.find('ul',{'class':'inline-list catalog-listing-attribute-list'}):\n",
    "    location.append(i.find('li',{'class':'column small-6 medium-3 large-3 catalog-listing-item-location'}).span.text.strip())\n",
    "  else:\n",
    "    location.append('No_location')\n",
    "            \n",
    "end=time.time()\n",
    "print(end-start)"
   ]
  },
  {
   "cell_type": "code",
   "execution_count": null,
   "metadata": {
    "colab": {
     "base_uri": "https://localhost:8080/",
     "height": 136
    },
    "colab_type": "code",
    "id": "szioB8BvQozv",
    "outputId": "20e049d7-01b6-4fd3-9259-5503cd2ec0b3"
   },
   "outputs": [],
   "source": [
    "display(len(title))\n",
    "display(len(price))\n",
    "display(len(km))\n",
    "display(len(car_type))\n",
    "display(len(fuel_type))\n",
    "display(len(engine_capacity))\n",
    "display(len(location))"
   ]
  },
  {
   "cell_type": "markdown",
   "metadata": {
    "colab_type": "text",
    "id": "DTqaTiomQozx"
   },
   "source": [
    "## Create a dataframe "
   ]
  },
  {
   "cell_type": "code",
   "execution_count": null,
   "metadata": {
    "colab": {},
    "colab_type": "code",
    "id": "WCLRzF-7Qozx"
   },
   "outputs": [],
   "source": [
    "ziplist=list(zip(title,price,km,car_type,fuel_type,engine_capacity,location))"
   ]
  },
  {
   "cell_type": "code",
   "execution_count": null,
   "metadata": {
    "colab": {},
    "colab_type": "code",
    "id": "TaJkG83AQoz0"
   },
   "outputs": [],
   "source": [
    "ziplist"
   ]
  },
  {
   "cell_type": "code",
   "execution_count": null,
   "metadata": {
    "colab": {},
    "colab_type": "code",
    "id": "sFePPLvZQoz2"
   },
   "outputs": [],
   "source": [
    "df=pd.DataFrame(ziplist,columns=['Car_Name','Price','Km','Car_type','Fuel_type','Engine_capacity','Location'])"
   ]
  },
  {
   "cell_type": "code",
   "execution_count": null,
   "metadata": {
    "colab": {},
    "colab_type": "code",
    "id": "E8iBEPprQoz3"
   },
   "outputs": [],
   "source": [
    "df['Car_Name']=df['Car_Name'].str.replace('\\n','')"
   ]
  },
  {
   "cell_type": "code",
   "execution_count": null,
   "metadata": {
    "colab": {},
    "colab_type": "code",
    "id": "4J9EUIqsQoz5"
   },
   "outputs": [],
   "source": [
    "df"
   ]
  },
  {
   "cell_type": "markdown",
   "metadata": {
    "colab_type": "text",
    "id": "eoC7UbfcQoz7"
   },
   "source": [
    "## Append 2 dataframe in the batch "
   ]
  },
  {
   "cell_type": "code",
   "execution_count": null,
   "metadata": {
    "colab": {},
    "colab_type": "code",
    "id": "AWMnU77oQoz8"
   },
   "outputs": [],
   "source": [
    "## Create a empty data frame df_1\n",
    "if pl==1:\n",
    "  #df_1=pd.DataFrame(columns=['Car_Name','Price','Km','Car_type','Fuel_type','Engine_capacity','Location'])\n",
    "  #master_df=pd.concat([df_1,df],axis=0)\n",
    "  master_df=df.copy()\n",
    "  del df\n",
    "else:\n",
    "  df_1=master_df.copy()\n",
    "  del master_df\n",
    "  master_df=pd.concat([df_1,df],axis=0)"
   ]
  },
  {
   "cell_type": "code",
   "execution_count": null,
   "metadata": {
    "colab": {
     "base_uri": "https://localhost:8080/",
     "height": 34
    },
    "colab_type": "code",
    "id": "aTLdUq-XQoz-",
    "outputId": "be908a36-bdb6-477c-c16d-ca5ac5ef2bb0"
   },
   "outputs": [],
   "source": [
    "master_df.shape"
   ]
  },
  {
   "cell_type": "markdown",
   "metadata": {
    "colab_type": "text",
    "id": "CO2mF_opQo0E"
   },
   "source": [
    " Define a sleep time of 5 min "
   ]
  },
  {
   "cell_type": "code",
   "execution_count": null,
   "metadata": {
    "colab": {},
    "colab_type": "code",
    "id": "-JhApZeqQo0E"
   },
   "outputs": [],
   "source": [
    "t=300\n",
    "time.sleep(t)"
   ]
  },
  {
   "cell_type": "code",
   "execution_count": null,
   "metadata": {
    "colab": {
     "base_uri": "https://localhost:8080/",
     "height": 68
    },
    "colab_type": "code",
    "id": "3cdvK-5kk8Tl",
    "outputId": "caad811c-4dd0-4abd-edbd-0911f2dac42c"
   },
   "outputs": [],
   "source": [
    "## call the functions : item_url_fetch\n",
    "##item_url_fetch(lb,ub)\n",
    "display(pl)\n",
    "display(lower_il)\n",
    "display(upper_il)"
   ]
  },
  {
   "cell_type": "markdown",
   "metadata": {
    "colab_type": "text",
    "id": "oMU3dNpKQo0I"
   },
   "source": [
    "## Update lb and ub "
   ]
  },
  {
   "cell_type": "code",
   "execution_count": null,
   "metadata": {
    "colab": {},
    "colab_type": "code",
    "id": "8XTdj8HkQo0I"
   },
   "outputs": [],
   "source": [
    "## update the lb and ub \n",
    "pl+=1\n",
    "lower_il=upper_il\n",
    "upper_il=upper_il+30"
   ]
  },
  {
   "cell_type": "code",
   "execution_count": null,
   "metadata": {
    "colab": {
     "base_uri": "https://localhost:8080/",
     "height": 68
    },
    "colab_type": "code",
    "id": "HgipY9yyQo0N",
    "outputId": "d9174729-ac24-418b-a76c-165658d969b7"
   },
   "outputs": [],
   "source": [
    "## call the functions : item_url_fetch\n",
    "##item_url_fetch(lb,ub)\n",
    "display(pl)\n",
    "display(lower_il)\n",
    "display(upper_il)"
   ]
  },
  {
   "cell_type": "code",
   "execution_count": null,
   "metadata": {
    "colab": {},
    "colab_type": "code",
    "id": "HiguMpaYQo0L"
   },
   "outputs": [],
   "source": [
    "## Create empty list for the info to scrap ##\n",
    "title=[]\n",
    "price=[]\n",
    "km=[]\n",
    "car_type=[]\n",
    "fuel_type=[]\n",
    "engine_capacity=[]\n",
    "location=[]"
   ]
  },
  {
   "cell_type": "markdown",
   "metadata": {
    "colab_type": "text",
    "id": "9hzyjV76abQw"
   },
   "source": [
    "## Goto Label : Extract "
   ]
  }
 ],
 "metadata": {
  "colab": {
   "name": "Webcrawling.ipynb",
   "provenance": []
  },
  "kernelspec": {
   "display_name": "Python 3",
   "language": "python",
   "name": "python3"
  },
  "language_info": {
   "codemirror_mode": {
    "name": "ipython",
    "version": 3
   },
   "file_extension": ".py",
   "mimetype": "text/x-python",
   "name": "python",
   "nbconvert_exporter": "python",
   "pygments_lexer": "ipython3",
   "version": "3.6.8"
  }
 },
 "nbformat": 4,
 "nbformat_minor": 1
}
